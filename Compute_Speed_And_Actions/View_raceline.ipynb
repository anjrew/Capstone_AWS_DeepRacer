{
 "cells": [
  {
   "cell_type": "markdown",
   "metadata": {},
   "source": [
    "# Load and visualize a stored track file"
   ]
  },
  {
   "cell_type": "code",
   "execution_count": null,
   "metadata": {},
   "outputs": [],
   "source": [
    "from numpy import array\n",
    "import glob\n",
    "import numpy as np\n",
    "from shapely.geometry import Point, Polygon\n",
    "from shapely.geometry.polygon import LinearRing, LineString\n",
    "import pandas as pd\n",
    "import matplotlib.pyplot as plt\n",
    "import os.path\n",
    "\n",
    "fname = './racelines/2022_october_open-1500-8-2022-10-28-215713.npy'\n",
    "with open(fname, \"r\") as file:\n",
    "    deserialized = eval(file.read())\n",
    "deserialized\n",
    "fig = plt.figure(1, figsize=(16, 10))\n",
    "ax = fig.add_subplot(111, facecolor='black')\n",
    "plt.axis('equal')\n",
    "print_border(ax, deserialized, inner_border, outer_border)"
   ]
  }
 ],
 "metadata": {
  "kernelspec": {
   "display_name": "Python 3.8.10 64-bit",
   "language": "python",
   "name": "python3"
  },
  "language_info": {
   "name": "python",
   "version": "3.8.10"
  },
  "orig_nbformat": 4,
  "vscode": {
   "interpreter": {
    "hash": "916dbcbb3f70747c44a77c7bcd40155683ae19c65e1c03b4aa3499c5328201f1"
   }
  }
 },
 "nbformat": 4,
 "nbformat_minor": 2
}
